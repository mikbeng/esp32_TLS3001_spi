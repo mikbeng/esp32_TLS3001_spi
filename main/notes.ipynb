{
 "cells": [
  {
   "cell_type": "code",
   "execution_count": 25,
   "metadata": {},
   "outputs": [
    {
     "name": "stdout",
     "output_type": "stream",
     "text": [
      "14.5\n"
     ]
    },
    {
     "data": {
      "text/plain": [
       "(14, 4)"
      ]
     },
     "execution_count": 25,
     "metadata": {},
     "output_type": "execute_result"
    }
   ],
   "source": [
    "import math\n",
    "PIXEL_DATA_LEN_SPI = 39*2\n",
    "COLOR_DATA_LEN_MANCH = 13*2\n",
    "START_CMD_LEN_SPI = 19*2\n",
    "\n",
    "num_pixels = 1\n",
    "\n",
    "manch_bits = num_pixels*PIXEL_DATA_LEN_SPI+START_CMD_LEN_SPI\n",
    "print(manch_bits/8)\n",
    "\n",
    "\n",
    "\n",
    "#math.fmod(manch_bits, 8.0)\n",
    "\n",
    "divmod(manch_bits, 8)\n",
    "\n",
    "#ch1_buffer_mem_size_byte = (uint16_t ) ceil(((double)((TLS3001_handle_ch1.num_pixels*PIXEL_DATA_LEN_SPI)+START_CMD_LEN_SPI))/8);"
   ]
  },
  {
   "cell_type": "code",
   "execution_count": 28,
   "metadata": {},
   "outputs": [
    {
     "name": "stdout",
     "output_type": "stream",
     "text": [
      "4.75\n",
      "8.0\n",
      "11.25\n",
      "3.25\n",
      "14.5\n"
     ]
    }
   ],
   "source": [
    "start_writes = START_CMD_LEN_SPI/8\n",
    "print(start_writes)\n",
    "\n",
    "i0_writes = COLOR_DATA_LEN_MANCH/8\n",
    "print(i0_writes+start_writes)\n",
    "\n",
    "i1_writes = COLOR_DATA_LEN_MANCH/8\n",
    "print(i1_writes+i0_writes+start_writes)\n",
    "\n",
    "i2_writes = COLOR_DATA_LEN_MANCH/8\n",
    "print(i2_writes)\n",
    "\n",
    "sum = start_writes+i0_writes+i1_writes+i2_writes\n",
    "print(sum)"
   ]
  },
  {
   "cell_type": "code",
   "execution_count": 18,
   "metadata": {},
   "outputs": [
    {
     "data": {
      "text/plain": [
       "(3, 2)"
      ]
     },
     "execution_count": 18,
     "metadata": {},
     "output_type": "execute_result"
    }
   ],
   "source": [
    "divmod(26, 8)"
   ]
  },
  {
   "cell_type": "code",
   "execution_count": null,
   "metadata": {},
   "outputs": [],
   "source": []
  }
 ],
 "metadata": {
  "interpreter": {
   "hash": "e7370f93d1d0cde622a1f8e1c04877d8463912d04d973331ad4851f04de6915a"
  },
  "kernelspec": {
   "display_name": "Python 3.8.10 64-bit",
   "language": "python",
   "name": "python3"
  },
  "language_info": {
   "codemirror_mode": {
    "name": "ipython",
    "version": 3
   },
   "file_extension": ".py",
   "mimetype": "text/x-python",
   "name": "python",
   "nbconvert_exporter": "python",
   "pygments_lexer": "ipython3",
   "version": "3.8.10"
  },
  "orig_nbformat": 4
 },
 "nbformat": 4,
 "nbformat_minor": 2
}
